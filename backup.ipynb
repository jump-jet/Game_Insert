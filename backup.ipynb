{
 "cells": [
  {
   "cell_type": "code",
   "execution_count": null,
   "metadata": {},
   "outputs": [],
   "source": [
    "import csv\n",
    "\n",
    "with open('data.csv', newline='') as csvfile:\n",
    "    data = list(csv.reader(csvfile))\n",
    "\n",
    "# print(data)\n",
    "\n",
    "\n",
    "\n",
    "table = '`game_list`'\n",
    "bracket_open = '('\n",
    "bracket_close = ')'\n",
    "uid = '1'\n",
    "name = 'abc'\n",
    "code = '112'\n",
    "type = '1'\n",
    "provider_id = '2'\n",
    "provider_name = 'PP'\n",
    "lang_code = 'G00100'\n",
    "status = '1'\n",
    "created = '2021-08-26 12:39:14'\n",
    "img = 'abc.jpg'\n",
    "\n",
    "print('INSERT INTO',table,'(','`id`','`name`', '`code`', '`type`', '`provider_id`', '`provider_name`', '`lang_code`', '`status`', '`created`', '`img`',')','VALUES',\n",
    "'(','NULL',',''`',name,'`',',''`',code,'`',',''`',type,'`',',''`',provider_id,'`',',''`',provider_name,'`',',''`',lang_code,'`',',''`',status,'`',',''`',created,'`',',''`',img,'`')\n",
    "\n",
    "\n",
    "\n",
    "\n"
   ]
  },
  {
   "cell_type": "code",
   "execution_count": null,
   "metadata": {},
   "outputs": [],
   "source": [
    "import csv\n",
    "\n",
    "with open('data.csv', \"rt\", encoding='ascii') as infile:\n",
    "    read = csv.reader(infile)\n",
    "    for row in read :\n",
    "        print (row)\n",
    "\n",
    "\n"
   ]
  },
  {
   "cell_type": "code",
   "execution_count": null,
   "metadata": {},
   "outputs": [],
   "source": [
    "a = '222'\n",
    "b = '333'\n",
    "table = '`game_list`'\n",
    "def game(name,code):\n",
    "\n",
    "  print('INSERT INTO',table,'(','`id`','`name`', '`code`'')','VALUES','(','NULL',',''`',name,'`',',''`',code,'`',')')\n",
    "\n",
    "\n",
    "game(\"122\",\"2\")\n",
    "game(\"77\",\"6\")\n",
    "game(a,b)\n"
   ]
  }
 ],
 "metadata": {
  "kernelspec": {
   "display_name": "Python 3.9.9 64-bit",
   "language": "python",
   "name": "python3"
  },
  "language_info": {
   "name": "python",
   "version": "3.9.9"
  },
  "orig_nbformat": 4,
  "vscode": {
   "interpreter": {
    "hash": "aee8b7b246df8f9039afb4144a1f6fd8d2ca17a180786b69acc140d282b71a49"
   }
  }
 },
 "nbformat": 4,
 "nbformat_minor": 2
}
