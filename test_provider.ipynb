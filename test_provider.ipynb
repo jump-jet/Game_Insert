{
 "cells": [
  {
   "cell_type": "code",
   "execution_count": 1,
   "metadata": {},
   "outputs": [
    {
     "name": "stdout",
     "output_type": "stream",
     "text": [
      "      id  parent_id       name     display       fullname  index  bet_limit  \\\n",
      "0      1          0         GG          GG  YouLianGaming     31          0   \n",
      "1      2          0  EVOLUTION         EVO      Evolution     24          0   \n",
      "2      3          0         UG  UG-EXPIRED   UnitedGaming      6          0   \n",
      "3      4          0         AG          AG     AsiaGaming      2          0   \n",
      "4      5          0         BG          BG      BigGaming      0          0   \n",
      "..   ...        ...        ...         ...            ...    ...        ...   \n",
      "109  146          0    YGG-SBO     YGG-SBO      yggdrasil      2          0   \n",
      "110  151          0      IBSTF       IBSTF          IBSTF     53          0   \n",
      "111  152          0       UGv2          UG   UnitedGaming     21          1   \n",
      "112  153          0   JDB-FISH    JDB-FISH            JDB     18          0   \n",
      "113  154        151        EDP         EDP     Endorphina     54          0   \n",
      "\n",
      "     bet_detail              table_name       apiname  status  \\\n",
      "0             1          bet_history_nt     ntCurlApi       1   \n",
      "1             0         bet_history_evo  evolutionApi       1   \n",
      "2             0          bet_history_ug         ugApi       1   \n",
      "3             0          bet_history_ag     agApiCurl       0   \n",
      "4             0          bet_history_bg         bgApi       0   \n",
      "..          ...                     ...           ...     ...   \n",
      "109           1     bet_history_sbo_ygg        sboApi       1   \n",
      "110           0       bet_history_ibstf      ibstfApi       1   \n",
      "111           0        bet_history_ugv2       ugv2Api       1   \n",
      "112           1  bet_history_awcjdbfish        awcApi       0   \n",
      "113           0         bet_history_edp      ibstfApi       0   \n",
      "\n",
      "                 created  provider_status  mobile_status  \n",
      "0    2020-07-07 15:16:52                1              0  \n",
      "1    2020-07-16 10:10:14                1              0  \n",
      "2    2020-07-16 17:12:59                1              0  \n",
      "3    2020-07-18 02:58:09                1              0  \n",
      "4    2020-07-20 15:27:10                1              0  \n",
      "..                   ...              ...            ...  \n",
      "109  2022-04-13 14:55:37                1              0  \n",
      "110  2022-05-26 17:36:57                1              0  \n",
      "111  2022-05-30 11:19:19                1              0  \n",
      "112  2022-06-13 16:55:04                1              0  \n",
      "113  2022-05-26 17:36:59                1              0  \n",
      "\n",
      "[114 rows x 14 columns]\n"
     ]
    }
   ],
   "source": [
    "import pandas as pd\n",
    "\n",
    "df_siam = pd.read_csv('siam123.csv')\n",
    "df_siam = pd.DataFrame(df_siam)\n",
    "\n",
    "df_22fun = pd.read_csv('22fun.csv')\n",
    "df_22fun = pd.DataFrame(df_22fun)\n",
    "\n",
    "df_gcwin = pd.read_csv('gcwin.csv')\n",
    "df_gcwin = pd.DataFrame(df_gcwin)\n",
    "\n",
    "df_kw33 = pd.read_csv('kw33.csv')\n",
    "df_kw33 = pd.DataFrame(df_kw33)\n",
    "\n",
    "df_amg28 = pd.read_csv('amg28.csv')\n",
    "df_amg28 = pd.DataFrame(df_amg28)\n",
    "\n",
    "df_dis88 = pd.read_csv('dis88.csv')\n",
    "df_dis88 = pd.DataFrame(df_dis88)\n",
    "\n",
    "df_multi = pd.read_csv('multi.csv')\n",
    "df_multi = pd.DataFrame(df_multi)\n",
    "\n",
    "print(df_22fun)"
   ]
  }
 ],
 "metadata": {
  "kernelspec": {
   "display_name": "Python 3.9.9 64-bit",
   "language": "python",
   "name": "python3"
  },
  "language_info": {
   "codemirror_mode": {
    "name": "ipython",
    "version": 3
   },
   "file_extension": ".py",
   "mimetype": "text/x-python",
   "name": "python",
   "nbconvert_exporter": "python",
   "pygments_lexer": "ipython3",
   "version": "3.9.9"
  },
  "orig_nbformat": 4,
  "vscode": {
   "interpreter": {
    "hash": "6e81e1ffe8984540b714d32042f4976c5d637fa079c1232b5812d820cb6dac4a"
   }
  }
 },
 "nbformat": 4,
 "nbformat_minor": 2
}
