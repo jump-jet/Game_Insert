{
 "cells": [
  {
   "cell_type": "code",
   "execution_count": 1,
   "metadata": {},
   "outputs": [
    {
     "name": "stdout",
     "output_type": "stream",
     "text": [
      "Hello, world!\n"
     ]
    }
   ],
   "source": [
    "# This program prints Hello, world!\n",
    "\n",
    "print('Hello, world!')\n"
   ]
  },
  {
   "cell_type": "code",
   "execution_count": 2,
   "metadata": {},
   "outputs": [
    {
     "name": "stdout",
     "output_type": "stream",
     "text": [
      "Current Time = 2022-07-16 04:22:17\n"
     ]
    }
   ],
   "source": [
    "from datetime import datetime\n",
    "\n",
    "now = datetime.now()\n",
    "\n",
    "current_time = now.strftime(\"%Y-%m-%d %H:%M:%S\")\n",
    "print(\"Current Time =\", current_time)"
   ]
  },
  {
   "cell_type": "code",
   "execution_count": 8,
   "metadata": {},
   "outputs": [],
   "source": [
    "import pandas as pd\n",
    "import sys\n",
    "from datetime import datetime\n",
    "\n",
    "now = datetime.now()\n",
    "current_time = now.strftime(\"%Y-%m-%d %H:%M:%S\")\n",
    "\n",
    "pd.options.display.max_rows = 999\n",
    "\n",
    "df = pd.read_csv('data.csv')\n",
    "df = pd.DataFrame(df)\n",
    "\n",
    "table = '`game_list`'\n",
    "type_ = '1'\n",
    "provider_id = '33'\n",
    "provider_name = 'QS'\n",
    "lang_code = 'G00100'\n",
    "status = '1'\n",
    "img = 'abc.jpg'\n",
    "sym = \"'\"\n",
    "a = \"` ( `\"\n",
    "\n",
    "def game(name,code):\n",
    "\n",
    "  print('INSERT INTO',table,'(','`id`',',','`name`',',','`code`',',','`type`',',','`provider_id`',',','`provider_name`',',','`lang_code`',',','`status`',',','`created`',',','`img`',')','VALUES',\n",
    "  '(','NULL',',',repr(name),',',repr(code),',',repr(type_),',',repr(provider_id),',',repr(provider_name),',',repr(lang_code),',',repr(status),',',repr(current_time),',',repr(img),')',';')\n",
    "  \n",
    "for row in df.itertuples():\n",
    "    \n",
    "    game(row.name,row.code)\n",
    "   \n",
    "sys.stdout = open('game.txt', 'w')\n",
    "\n",
    "# game('ww','ee')\n",
    "  # print(',',repr(name),',')\n",
    "    \n",
    "# # print(df) \n",
    "# # isinstance([df], list)\n",
    "\n",
    "# f = open(\"test.txt\", \"w\")\n",
    "# f.write(row.name)\n",
    "# f.close()\n",
    "\n",
    "# a = '222'\n",
    "# b = '333'\n",
    "\n",
    "\n",
    "# game(df.name,df.code)\n",
    "# game(\"122\",\"2\")\n",
    "# game(\"77\",\"6\")\n",
    "\n",
    "\n"
   ]
  },
  {
   "cell_type": "code",
   "execution_count": 6,
   "metadata": {},
   "outputs": [],
   "source": [
    "import pandas as pd\n",
    "\n",
    "df = pd.read_csv('siam123.csv')\n",
    "df = pd.DataFrame(df)\n",
    "\n",
    "for row in df.itertuples():\n",
    "    print(row.name,row.id)"
   ]
  }
 ],
 "metadata": {
  "kernelspec": {
   "display_name": "Python 3.9.9 64-bit",
   "language": "python",
   "name": "python3"
  },
  "language_info": {
   "codemirror_mode": {
    "name": "ipython",
    "version": 3
   },
   "file_extension": ".py",
   "mimetype": "text/x-python",
   "name": "python",
   "nbconvert_exporter": "python",
   "pygments_lexer": "ipython3",
   "version": "3.9.9"
  },
  "orig_nbformat": 4,
  "vscode": {
   "interpreter": {
    "hash": "6e81e1ffe8984540b714d32042f4976c5d637fa079c1232b5812d820cb6dac4a"
   }
  }
 },
 "nbformat": 4,
 "nbformat_minor": 2
}
