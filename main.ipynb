{
 "cells": [
  {
   "cell_type": "code",
   "execution_count": 25,
   "metadata": {},
   "outputs": [],
   "source": [
    "import pandas as pd\n",
    "import csv\n",
    "from datetime import datetime\n",
    "\n",
    "now = datetime.now()\n",
    "current_time = now.strftime(\"%Y-%m-%d %H:%M:%S\")\n",
    "\n",
    "pd.options.display.max_rows = 999\n",
    "\n",
    "df = pd.read_csv('data.csv')\n",
    "df = pd.DataFrame(df)\n",
    "\n",
    "df_provider = pd.read_csv('siam123.csv')\n",
    "df_provider = pd.DataFrame(df_provider)\n",
    "\n",
    "df_lang = pd.read_csv('lang_code.csv')\n",
    "df_lang = pd.DataFrame(df_lang)\n",
    "\n",
    "table = '`game_list`'\n",
    "type_ = '1'\n",
    "lang_code = 'G00100'\n",
    "status = '1'\n",
    "a = \"` ( `\"\n",
    "\n",
    "\n",
    "with open(\"game.txt\",\"w\") as f:\n",
    "     for row in df.itertuples():\n",
    "          provider_name = row.provider\n",
    "          result = df_provider.loc[df_provider['display'] == provider_name,'id']\n",
    "          lang = df_lang.loc[df_lang['provider_name'] == provider_name,'lang_code']\n",
    "          \n",
    "          for result_id in result:   \n",
    "               provider_id = result_id\n",
    "          for lang_code in lang:\n",
    "               lang_code = lang_code   \n",
    "               value = f'INSERT INTO {table} (`id`,`name`,`code`,`type`,`provider_id`,`provider_name`,`lang_code`,`status`,`created`,`img`) VALUES (NULL,{repr(row.name)},{repr(row.code)},{repr(type_)},{repr(provider_id)},{repr(row.provider)},{repr(lang_code)},{repr(status)},{repr(current_time)},{repr(row.img)}); \\n'\n",
    "               f.write(value)\n",
    " "
   ]
  }
 ],
 "metadata": {
  "kernelspec": {
   "display_name": "Python 3.9.9 64-bit",
   "language": "python",
   "name": "python3"
  },
  "language_info": {
   "codemirror_mode": {
    "name": "ipython",
    "version": 3
   },
   "file_extension": ".py",
   "mimetype": "text/x-python",
   "name": "python",
   "nbconvert_exporter": "python",
   "pygments_lexer": "ipython3",
   "version": "3.9.9"
  },
  "orig_nbformat": 4,
  "vscode": {
   "interpreter": {
    "hash": "aee8b7b246df8f9039afb4144a1f6fd8d2ca17a180786b69acc140d282b71a49"
   }
  }
 },
 "nbformat": 4,
 "nbformat_minor": 2
}
