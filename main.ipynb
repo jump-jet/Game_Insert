{
 "cells": [
  {
   "cell_type": "code",
   "execution_count": 26,
   "metadata": {},
   "outputs": [
    {
     "name": "stdout",
     "output_type": "stream",
     "text": [
      "Hello, world!\n"
     ]
    }
   ],
   "source": [
    "# This program prints Hello, world!\n",
    "\n",
    "print('Hello, world!')\n"
   ]
  },
  {
   "cell_type": "code",
   "execution_count": 27,
   "metadata": {},
   "outputs": [
    {
     "name": "stdout",
     "output_type": "stream",
     "text": [
      "Current Time = 15:34:51\n"
     ]
    }
   ],
   "source": [
    "from datetime import datetime\n",
    "\n",
    "now = datetime.now()\n",
    "\n",
    "current_time = now.strftime(\"%H:%M:%S\")\n",
    "print(\"Current Time =\", current_time)"
   ]
  },
  {
   "cell_type": "code",
   "execution_count": 28,
   "metadata": {},
   "outputs": [
    {
     "ename": "SyntaxError",
     "evalue": "invalid syntax (351530060.py, line 1)",
     "output_type": "error",
     "traceback": [
      "\u001b[0;36m  Input \u001b[0;32mIn [28]\u001b[0;36m\u001b[0m\n\u001b[0;31m    INSERT INTO `game_list` (`id`, `name`, `code`, `type`, `provider_id`, `provider_name`, `lang_code`, `status`, `created`, `img`) VALUES (NULL, 'Gargoyle Infinity Reels', '125', '1', '145', 'YGG-SBO', 'G00011', '1', '2022-04-15 18:16:39', 'Online-Casino-Slot-Game-YGG-Gargoyle-Infinity-Reels-Siam66-Thailand.jpg');\u001b[0m\n\u001b[0m           ^\u001b[0m\n\u001b[0;31mSyntaxError\u001b[0m\u001b[0;31m:\u001b[0m invalid syntax\n"
     ]
    }
   ],
   "source": [
    "INSERT INTO `game_list` (`id`, `name`, `code`, `type`, `provider_id`, `provider_name`, `lang_code`, `status`, `created`, `img`) VALUES (NULL, 'Gargoyle Infinity Reels', '125', '1', '145', 'YGG-SBO', 'G00011', '1', '2022-04-15 18:16:39', 'Online-Casino-Slot-Game-YGG-Gargoyle-Infinity-Reels-Siam66-Thailand.jpg');\n"
   ]
  },
  {
   "cell_type": "code",
   "execution_count": null,
   "metadata": {},
   "outputs": [
    {
     "name": "stdout",
     "output_type": "stream",
     "text": [
      "INSERT INTO `game_list` ( `id` `name` `code` `type` `provider_id` `provider_name` `lang_code` `status` `created` `img` ) VALUES ( NULL ,` abc ` ,` 112 ` ,` 1 ` ,` 2 ` ,` PP ` ,` G00100 ` ,` 1 ` ,` 2021-08-26 12:39:14 ` ,` abc.jpg `\n"
     ]
    }
   ],
   "source": [
    "import csv\n",
    "\n",
    "with open('data.csv', newline='') as csvfile:\n",
    "    data = list(csv.reader(csvfile))\n",
    "\n",
    "# print(data)\n",
    "\n",
    "\n",
    "\n",
    "table = '`game_list`'\n",
    "bracket_open = '('\n",
    "bracket_close = ')'\n",
    "uid = '1'\n",
    "name = 'abc'\n",
    "code = '112'\n",
    "type = '1'\n",
    "provider_id = '2'\n",
    "provider_name = 'PP'\n",
    "lang_code = 'G00100'\n",
    "status = '1'\n",
    "created = '2021-08-26 12:39:14'\n",
    "img = 'abc.jpg'\n",
    "\n",
    "print('INSERT INTO',table,'(','`id`','`name`', '`code`', '`type`', '`provider_id`', '`provider_name`', '`lang_code`', '`status`', '`created`', '`img`',')','VALUES',\n",
    "'(','NULL',',''`',name,'`',',''`',code,'`',',''`',type,'`',',''`',provider_id,'`',',''`',provider_name,'`',',''`',lang_code,'`',',''`',status,'`',',''`',created,'`',',''`',img,'`')\n",
    "\n",
    "\n",
    "\n",
    "\n"
   ]
  },
  {
   "cell_type": "code",
   "execution_count": null,
   "metadata": {},
   "outputs": [
    {
     "name": "stdout",
     "output_type": "stream",
     "text": [
      "['name', 'code']\n",
      "['Flip Royale', 'QS-fliproyale']\n",
      "['Folsom Prison', 'NLC-folsomprison']\n"
     ]
    }
   ],
   "source": [
    "import csv\n",
    "\n",
    "with open('data.csv', \"rt\", encoding='ascii') as infile:\n",
    "    read = csv.reader(infile)\n",
    "    for row in read :\n",
    "        print (row)\n",
    "\n",
    "\n"
   ]
  },
  {
   "cell_type": "code",
   "execution_count": null,
   "metadata": {},
   "outputs": [
    {
     "name": "stdout",
     "output_type": "stream",
     "text": [
      "INSERT INTO `game_list` ( `id` `name` `code`) VALUES ( NULL ,` 122 ` ,` 2 ` )\n",
      "INSERT INTO `game_list` ( `id` `name` `code`) VALUES ( NULL ,` 77 ` ,` 6 ` )\n",
      "INSERT INTO `game_list` ( `id` `name` `code`) VALUES ( NULL ,` 222 ` ,` 333 ` )\n"
     ]
    }
   ],
   "source": [
    "a = '222'\n",
    "b = '333'\n",
    "table = '`game_list`'\n",
    "def game(name,code):\n",
    "\n",
    "  print('INSERT INTO',table,'(','`id`','`name`', '`code`'')','VALUES','(','NULL',',''`',name,'`',',''`',code,'`',')')\n",
    "\n",
    "\n",
    "game(\"122\",\"2\")\n",
    "game(\"77\",\"6\")\n",
    "game(a,b)\n"
   ]
  },
  {
   "cell_type": "code",
   "execution_count": 40,
   "metadata": {},
   "outputs": [
    {
     "name": "stdout",
     "output_type": "stream",
     "text": [
      "INSERT INTO `game_list` ( `id` , `name` , `code` , `type` , `provider_id` , `provider_name` , `lang_code` , `status` , `created` , `img` ) VALUES ( NULL , 'Flip Royale' , 'QS-fliproyale' , '1' , '33' , 'QS' , 'G00100' , '1' , '2021-08-26 12:39:14' , 'abc.jpg' ) ;\n",
      "INSERT INTO `game_list` ( `id` , `name` , `code` , `type` , `provider_id` , `provider_name` , `lang_code` , `status` , `created` , `img` ) VALUES ( NULL , 'Folsom Prison' , 'NLC-folsomprison' , '1' , '33' , 'QS' , 'G00100' , '1' , '2021-08-26 12:39:14' , 'abc.jpg' ) ;\n"
     ]
    }
   ],
   "source": [
    "import pandas as pd\n",
    "\n",
    "pd.options.display.max_rows = 9999\n",
    "\n",
    "df = pd.read_csv('data.csv')\n",
    "df = pd.DataFrame(df)\n",
    "\n",
    "table = '`game_list`'\n",
    "type_ = '1'\n",
    "provider_id = '33'\n",
    "provider_name = 'QS'\n",
    "lang_code = 'G00100'\n",
    "status = '1'\n",
    "created = '2021-08-26 12:39:14'\n",
    "img = 'abc.jpg'\n",
    "sym = \"'\"\n",
    "a = \"` ( `\"\n",
    "\n",
    "def game(name,code):\n",
    "\n",
    "  \n",
    "  print('INSERT INTO',table,'(','`id`',',','`name`',',','`code`',',','`type`',',','`provider_id`',',','`provider_name`',',','`lang_code`',',','`status`',',','`created`',',','`img`',')','VALUES',\n",
    "'(','NULL',',',repr(name),',',repr(code),',',repr(type_),',',repr(provider_id),',',repr(provider_name),',',repr(lang_code),',',repr(status),',',repr(created),',',repr(img),')',';')\n",
    " \n",
    "  # print(',',repr(name),',')\n",
    "\n",
    "for row in df.itertuples():\n",
    "    game(row.name,row.code)\n",
    "    \n",
    "    # print(row.name,row.code)\n",
    "   \n",
    "# print(df) \n",
    "# isinstance([df], list)\n",
    "\n",
    "f = open(\"test.txt\", \"w\")\n",
    "f.write(row.name)\n",
    "f.close()\n",
    "\n",
    "a = '222'\n",
    "b = '333'\n",
    "\n",
    "\n",
    "\n",
    "# game(\"122\",\"2\")\n",
    "# game(\"77\",\"6\")\n",
    "\n",
    "\n"
   ]
  },
  {
   "cell_type": "code",
   "execution_count": null,
   "metadata": {},
   "outputs": [],
   "source": [
    "print(',',repr(name),',',repr(code),',',repr(type_),',',repr(provider_id),',',repr(provider_name),',',repr(lang_code),',',repr(status),',',repr(created),',',repr(img))\n"
   ]
  }
 ],
 "metadata": {
  "interpreter": {
   "hash": "aee8b7b246df8f9039afb4144a1f6fd8d2ca17a180786b69acc140d282b71a49"
  },
  "kernelspec": {
   "display_name": "Python 3.9.9 64-bit",
   "language": "python",
   "name": "python3"
  },
  "language_info": {
   "codemirror_mode": {
    "name": "ipython",
    "version": 3
   },
   "file_extension": ".py",
   "mimetype": "text/x-python",
   "name": "python",
   "nbconvert_exporter": "python",
   "pygments_lexer": "ipython3",
   "version": "3.9.9"
  },
  "orig_nbformat": 4
 },
 "nbformat": 4,
 "nbformat_minor": 2
}
