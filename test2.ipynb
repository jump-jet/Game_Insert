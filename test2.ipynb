{
 "cells": [
  {
   "cell_type": "code",
   "execution_count": 7,
   "metadata": {},
   "outputs": [],
   "source": [
    "import pandas as pd\n",
    "import sys\n",
    "from datetime import datetime\n",
    "\n",
    "now = datetime.now()\n",
    "current_time = now.strftime(\"%Y-%m-%d %H:%M:%S\")\n",
    "\n",
    "pd.options.display.max_rows = 999\n",
    "\n",
    "df = pd.read_csv('data.csv')\n",
    "df = pd.DataFrame(df)\n",
    "\n",
    "table = '`game_list`'\n",
    "type_ = '1'\n",
    "provider_id = '33'\n",
    "provider_name = 'QS'\n",
    "lang_code = 'G00100'\n",
    "status = '1'\n",
    "img = 'abc.jpg'\n",
    "sym = \"'\"\n",
    "a = \"` ( `\"\n",
    "\n",
    "# def game(name,code):\n",
    "\n",
    "with open(\"log.txt\",\"w\") as f:\n",
    "    # f.write(f'INSERT INTO {table} (`id`,`name`,`code`,`type`,`provider_id`,`provider_name`,`lang_code`,`status`,`created`,`img`) VALUES (NULL,{repr(name)},{repr(code)},{repr(type_)},{repr(provider_id)},{repr(provider_name)},{repr(lang_code)},{repr(status)},{repr(current_time)},{repr(img)}); \\n')\n",
    "     for row in df.itertuples():\n",
    "      value = f'INSERT INTO {table} (`id`,`name`,`code`,`type`,`provider_id`,`provider_name`,`lang_code`,`status`,`created`,`img`) VALUES (NULL,{repr(row.name)},{repr(row.code)},{repr(type_)},{repr(provider_id)},{repr(provider_name)},{repr(lang_code)},{repr(status)},{repr(current_time)},{repr(img)}); \\n'\n",
    "      f.write(value)\n",
    " \n",
    "\n",
    "# for row in df.itertuples():\n",
    "    \n",
    "#     game(row.name,row.code)\n",
    "   \n",
    "\n",
    "\n",
    "# game('weqwe','w1212')\n",
    "\n",
    "\n"
   ]
  },
  {
   "cell_type": "code",
   "execution_count": null,
   "metadata": {},
   "outputs": [],
   "source": [
    "\n",
    "reference = (\n",
    "    \"TY  - THES\", \n",
    "    \"AB  -weqwe \",\n",
    "    \"AU  - we\" , \n",
    "    \"DO  - we\" ,\n",
    "    \"T1  -1 \", \n",
    "    \"UR  -2 \",\n",
    "    \"ER  - 3\",\n",
    "    \"             \")\n",
    "\n",
    "with open('Refs.txt', 'w',encoding='utf-8') as f:\n",
    "    for line in reference:\n",
    "        f.write(line)\n",
    "        f.write('\\n')"
   ]
  }
 ],
 "metadata": {
  "kernelspec": {
   "display_name": "Python 3.9.9 64-bit",
   "language": "python",
   "name": "python3"
  },
  "language_info": {
   "codemirror_mode": {
    "name": "ipython",
    "version": 3
   },
   "file_extension": ".py",
   "mimetype": "text/x-python",
   "name": "python",
   "nbconvert_exporter": "python",
   "pygments_lexer": "ipython3",
   "version": "3.9.9"
  },
  "orig_nbformat": 4,
  "vscode": {
   "interpreter": {
    "hash": "6e81e1ffe8984540b714d32042f4976c5d637fa079c1232b5812d820cb6dac4a"
   }
  }
 },
 "nbformat": 4,
 "nbformat_minor": 2
}
