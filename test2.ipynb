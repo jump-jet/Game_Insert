{
 "cells": [
  {
   "cell_type": "code",
   "execution_count": null,
   "metadata": {},
   "outputs": [],
   "source": [
    "import pandas as pd\n",
    "import sys\n",
    "from datetime import datetime\n",
    "\n",
    "now = datetime.now()\n",
    "current_time = now.strftime(\"%Y-%m-%d %H:%M:%S\")\n",
    "\n",
    "pd.options.display.max_rows = 999\n",
    "\n",
    "df = pd.read_csv('data.csv')\n",
    "df = pd.DataFrame(df)\n",
    "\n",
    "table = '`game_list`'\n",
    "type_ = '1'\n",
    "provider_id = '33'\n",
    "provider_name = 'QS'\n",
    "lang_code = 'G00100'\n",
    "status = '1'\n",
    "a = \"` ( `\"\n",
    "\n",
    "# def game(name,code):\n",
    "\n",
    "with open(\"game.txt\",\"w\") as f:\n",
    "    # f.write(f'INSERT INTO {table} (`id`,`name`,`code`,`type`,`provider_id`,`provider_name`,`lang_code`,`status`,`created`,`img`) VALUES (NULL,{repr(name)},{repr(code)},{repr(type_)},{repr(provider_id)},{repr(provider_name)},{repr(lang_code)},{repr(status)},{repr(current_time)},{repr(img)}); \\n')\n",
    "     for row in df.itertuples():\n",
    "      value = f'INSERT INTO {table} (`id`,`name`,`code`,`type`,`provider_id`,`provider_name`,`lang_code`,`status`,`created`,`img`) VALUES (NULL,{repr(row.name)},{repr(row.code)},{repr(type_)},{repr(provider_id)},{repr(provider_name)},{repr(lang_code)},{repr(status)},{repr(current_time)},{repr(row.img)}); \\n'\n",
    "      f.write(value)\n",
    " \n",
    "\n",
    "# for row in df.itertuples():\n",
    "    \n",
    "#     game(row.name,row.code)\n",
    "   \n",
    "\n",
    "\n",
    "# game('weqwe','w1212')\n",
    "\n",
    "\n"
   ]
  },
  {
   "cell_type": "code",
   "execution_count": null,
   "metadata": {},
   "outputs": [],
   "source": [
    "\n",
    "reference = (\n",
    "    \"TY  - THES\", \n",
    "    \"AB  -weqwe \",\n",
    "    \"AU  - we\" , \n",
    "    \"DO  - we\" ,\n",
    "    \"T1  -1 \", \n",
    "    \"UR  -2 \",\n",
    "    \"ER  - 3\",\n",
    "    \"             \")\n",
    "\n",
    "with open('Refs.txt', 'w',encoding='utf-8') as f:\n",
    "    for line in reference:\n",
    "        f.write(line)\n",
    "        f.write('\\n')"
   ]
  },
  {
   "cell_type": "code",
   "execution_count": 2,
   "metadata": {},
   "outputs": [
    {
     "name": "stdout",
     "output_type": "stream",
     "text": [
      "22\n"
     ]
    }
   ],
   "source": [
    "import pandas as pd\n",
    "\n",
    "\n",
    "pd.options.display.max_rows = 999\n",
    "\n",
    "df = pd.read_csv('siam123.csv')\n",
    "df = pd.DataFrame(df)\n",
    "\n",
    "input_provider = 'QTech'\n",
    "# print(df.name[0])\n",
    "\n",
    "for i,provider in enumerate(df[\"name\"]):\n",
    "    # for i,pro_id in  enumerate(df[\"id\"]):\n",
    "     if provider == input_provider:\n",
    "        provider_id = provider\n",
    "        \n",
    "\n",
    "result = df.loc[df['name'] == provider_id,'id']\n",
    "print(*result)\n",
    "# print(pro)\n",
    "# print(df.loc[df['name'] == 'GG'])\n",
    "# print(df.loc[3, 'name'])\n",
    "\n",
    "# if(df.name == provider):\n",
    "#     print(\"Done\")\n",
    "\n",
    "# print(df.name[1])\n",
    "\n",
    "# print(df.name == provider)\n",
    "\n",
    "# for row in df:\n",
    "\n",
    "        "
   ]
  }
 ],
 "metadata": {
  "kernelspec": {
   "display_name": "Python 3.9.9 64-bit",
   "language": "python",
   "name": "python3"
  },
  "language_info": {
   "codemirror_mode": {
    "name": "ipython",
    "version": 3
   },
   "file_extension": ".py",
   "mimetype": "text/x-python",
   "name": "python",
   "nbconvert_exporter": "python",
   "pygments_lexer": "ipython3",
   "version": "3.9.9"
  },
  "orig_nbformat": 4,
  "vscode": {
   "interpreter": {
    "hash": "aee8b7b246df8f9039afb4144a1f6fd8d2ca17a180786b69acc140d282b71a49"
   }
  }
 },
 "nbformat": 4,
 "nbformat_minor": 2
}
